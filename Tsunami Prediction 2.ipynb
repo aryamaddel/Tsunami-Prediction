{
 "cells": [
  {
   "cell_type": "code",
   "execution_count": 1,
   "id": "11b9e88e",
   "metadata": {},
   "outputs": [],
   "source": [
    "import pandas as pd\n",
    "tsunami_dataset = \"Tsunami.csv\""
   ]
  },
  {
   "cell_type": "code",
   "execution_count": 2,
   "id": "cfe77446",
   "metadata": {},
   "outputs": [
    {
     "name": "stdout",
     "output_type": "stream",
     "text": [
      "Preprocessed DataFrame shape: (1025, 18)\n",
      "        Year   Mo    Dy    Hr    Mn   Sec  Tsunami Event Validity  \\\n",
      "786   1839.0  1.0  11.0   9.0  55.0   0.0                     3.0   \n",
      "1292  1886.0  9.0   1.0   2.0  51.0   0.0                     4.0   \n",
      "1345  1893.0  6.0   4.0   2.0  27.0   0.0                     4.0   \n",
      "1389  1897.0  6.0  12.0  11.0   6.0  46.0                     3.0   \n",
      "1391  1897.0  8.0   5.0   0.0  10.0   0.0                     4.0   \n",
      "\n",
      "      Tsunami Cause Code  Earthquake Magnitude  Vol  Latitude  Longitude  \\\n",
      "786                  1.0                   7.8  NaN      14.9      -60.6   \n",
      "1292                 1.0                   7.3  NaN      32.9      -80.0   \n",
      "1345                 1.0                   7.0  NaN      43.3      147.5   \n",
      "1389                 1.0                   8.0  NaN      26.0       90.7   \n",
      "1391                 1.0                   7.7  NaN      38.0      143.7   \n",
      "\n",
      "                            Country     Location Name  \\\n",
      "786   MARTINIQUE (FRENCH TERRITORY)        MARTINIQUE   \n",
      "1292                            USA    CHARLESTON, SC   \n",
      "1345                         RUSSIA  S. KURIL ISLANDS   \n",
      "1389                          INDIA             ASSAM   \n",
      "1391                          JAPAN           SANRIKU   \n",
      "\n",
      "      Maximum Water Height (m)  Number of Runups  Tsunami Magnitude (Abe)  \\\n",
      "786                        NaN               1.0                      NaN   \n",
      "1292                       NaN               3.0                      NaN   \n",
      "1345                       2.5               3.0                      NaN   \n",
      "1389                       3.0               1.0                      NaN   \n",
      "1391                       3.6              37.0                      NaN   \n",
      "\n",
      "      Tsunami Magnitude (Iida)  \n",
      "786                        NaN  \n",
      "1292                       NaN  \n",
      "1345                       1.6  \n",
      "1389                       NaN  \n",
      "1391                       1.5  \n"
     ]
    }
   ],
   "source": [
    "tsunami_df = pd.read_csv(tsunami_dataset)\n",
    "\n",
    "# Use a list to select columns\n",
    "tsunami_df = tsunami_df[\n",
    "    [\n",
    "        \"Year\",\n",
    "        \"Mo\",\n",
    "        \"Dy\",\n",
    "        \"Hr\",\n",
    "        \"Mn\",\n",
    "        \"Sec\",\n",
    "        \"Tsunami Event Validity\",\n",
    "        \"Tsunami Cause Code\",\n",
    "        \"Earthquake Magnitude\",\n",
    "        \"Vol\",\n",
    "        \"Latitude\",\n",
    "        \"Longitude\",\n",
    "        \"Country\",\n",
    "        \"Location Name\",\n",
    "        \"Maximum Water Height (m)\",\n",
    "        \"Number of Runups\",\n",
    "        \"Tsunami Magnitude (Abe)\",\n",
    "        \"Tsunami Magnitude (Iida)\",\n",
    "    ]\n",
    "].dropna(\n",
    "    subset=[\n",
    "        \"Year\",\n",
    "        \"Mo\",\n",
    "        \"Dy\",\n",
    "        \"Hr\",\n",
    "        \"Mn\",\n",
    "        \"Sec\",\n",
    "        \"Tsunami Event Validity\",\n",
    "        \"Earthquake Magnitude\",\n",
    "        \"Latitude\",\n",
    "        \"Longitude\",\n",
    "    ]\n",
    ")\n",
    "\n",
    "\n",
    "print(\"Preprocessed DataFrame shape:\", tsunami_df.shape)\n",
    "print(tsunami_df.head())"
   ]
  }
 ],
 "metadata": {
  "kernelspec": {
   "display_name": ".venv",
   "language": "python",
   "name": "python3"
  },
  "language_info": {
   "codemirror_mode": {
    "name": "ipython",
    "version": 3
   },
   "file_extension": ".py",
   "mimetype": "text/x-python",
   "name": "python",
   "nbconvert_exporter": "python",
   "pygments_lexer": "ipython3",
   "version": "3.13.7"
  }
 },
 "nbformat": 4,
 "nbformat_minor": 5
}
